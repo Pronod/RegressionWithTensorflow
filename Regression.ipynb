{
 "cells": [
  {
   "cell_type": "code",
   "execution_count": 18,
   "id": "09077975",
   "metadata": {},
   "outputs": [],
   "source": [
    "import numpy as np\n",
    "import pandas as pd\n",
    "from my_model import Model"
   ]
  },
  {
   "cell_type": "code",
   "execution_count": 19,
   "id": "714ccb01",
   "metadata": {},
   "outputs": [],
   "source": [
    "data = pd.read_csv('internship_train.csv')"
   ]
  },
  {
   "cell_type": "markdown",
   "id": "3054da81",
   "metadata": {},
   "source": [
    "### Let's look at the data"
   ]
  },
  {
   "cell_type": "code",
   "execution_count": 20,
   "id": "ac3d0007",
   "metadata": {},
   "outputs": [
    {
     "data": {
      "text/html": [
       "<div>\n",
       "<style scoped>\n",
       "    .dataframe tbody tr th:only-of-type {\n",
       "        vertical-align: middle;\n",
       "    }\n",
       "\n",
       "    .dataframe tbody tr th {\n",
       "        vertical-align: top;\n",
       "    }\n",
       "\n",
       "    .dataframe thead th {\n",
       "        text-align: right;\n",
       "    }\n",
       "</style>\n",
       "<table border=\"1\" class=\"dataframe\">\n",
       "  <thead>\n",
       "    <tr style=\"text-align: right;\">\n",
       "      <th></th>\n",
       "      <th>0</th>\n",
       "      <th>1</th>\n",
       "      <th>2</th>\n",
       "      <th>3</th>\n",
       "      <th>4</th>\n",
       "      <th>5</th>\n",
       "      <th>6</th>\n",
       "      <th>7</th>\n",
       "      <th>8</th>\n",
       "      <th>9</th>\n",
       "      <th>...</th>\n",
       "      <th>44</th>\n",
       "      <th>45</th>\n",
       "      <th>46</th>\n",
       "      <th>47</th>\n",
       "      <th>48</th>\n",
       "      <th>49</th>\n",
       "      <th>50</th>\n",
       "      <th>51</th>\n",
       "      <th>52</th>\n",
       "      <th>target</th>\n",
       "    </tr>\n",
       "  </thead>\n",
       "  <tbody>\n",
       "    <tr>\n",
       "      <th>0</th>\n",
       "      <td>236</td>\n",
       "      <td>488</td>\n",
       "      <td>16</td>\n",
       "      <td>221</td>\n",
       "      <td>382</td>\n",
       "      <td>97</td>\n",
       "      <td>-4.472136</td>\n",
       "      <td>0.107472</td>\n",
       "      <td>0</td>\n",
       "      <td>132</td>\n",
       "      <td>...</td>\n",
       "      <td>13.340874</td>\n",
       "      <td>0.870542</td>\n",
       "      <td>1.962937</td>\n",
       "      <td>7.466666</td>\n",
       "      <td>11.547794</td>\n",
       "      <td>8.822916</td>\n",
       "      <td>9.046424</td>\n",
       "      <td>7.895535</td>\n",
       "      <td>11.010677</td>\n",
       "      <td>20.107472</td>\n",
       "    </tr>\n",
       "    <tr>\n",
       "      <th>1</th>\n",
       "      <td>386</td>\n",
       "      <td>206</td>\n",
       "      <td>357</td>\n",
       "      <td>232</td>\n",
       "      <td>1</td>\n",
       "      <td>198</td>\n",
       "      <td>7.810250</td>\n",
       "      <td>0.763713</td>\n",
       "      <td>1</td>\n",
       "      <td>143</td>\n",
       "      <td>...</td>\n",
       "      <td>12.484882</td>\n",
       "      <td>7.168680</td>\n",
       "      <td>2.885415</td>\n",
       "      <td>12.413973</td>\n",
       "      <td>10.260494</td>\n",
       "      <td>10.091351</td>\n",
       "      <td>9.270888</td>\n",
       "      <td>3.173994</td>\n",
       "      <td>13.921871</td>\n",
       "      <td>61.763713</td>\n",
       "    </tr>\n",
       "    <tr>\n",
       "      <th>2</th>\n",
       "      <td>429</td>\n",
       "      <td>49</td>\n",
       "      <td>481</td>\n",
       "      <td>111</td>\n",
       "      <td>111</td>\n",
       "      <td>146</td>\n",
       "      <td>8.602325</td>\n",
       "      <td>0.651162</td>\n",
       "      <td>1</td>\n",
       "      <td>430</td>\n",
       "      <td>...</td>\n",
       "      <td>14.030257</td>\n",
       "      <td>0.394970</td>\n",
       "      <td>8.160625</td>\n",
       "      <td>12.592059</td>\n",
       "      <td>8.937577</td>\n",
       "      <td>2.265191</td>\n",
       "      <td>11.255721</td>\n",
       "      <td>12.794841</td>\n",
       "      <td>12.080951</td>\n",
       "      <td>74.651162</td>\n",
       "    </tr>\n",
       "    <tr>\n",
       "      <th>3</th>\n",
       "      <td>414</td>\n",
       "      <td>350</td>\n",
       "      <td>481</td>\n",
       "      <td>370</td>\n",
       "      <td>208</td>\n",
       "      <td>158</td>\n",
       "      <td>8.306624</td>\n",
       "      <td>0.424645</td>\n",
       "      <td>1</td>\n",
       "      <td>340</td>\n",
       "      <td>...</td>\n",
       "      <td>2.789577</td>\n",
       "      <td>6.416708</td>\n",
       "      <td>10.549814</td>\n",
       "      <td>11.456437</td>\n",
       "      <td>6.468099</td>\n",
       "      <td>2.519049</td>\n",
       "      <td>0.258284</td>\n",
       "      <td>9.317696</td>\n",
       "      <td>5.383098</td>\n",
       "      <td>69.424645</td>\n",
       "    </tr>\n",
       "    <tr>\n",
       "      <th>4</th>\n",
       "      <td>318</td>\n",
       "      <td>359</td>\n",
       "      <td>20</td>\n",
       "      <td>218</td>\n",
       "      <td>317</td>\n",
       "      <td>301</td>\n",
       "      <td>8.124038</td>\n",
       "      <td>0.767304</td>\n",
       "      <td>1</td>\n",
       "      <td>212</td>\n",
       "      <td>...</td>\n",
       "      <td>1.886560</td>\n",
       "      <td>1.919999</td>\n",
       "      <td>2.268203</td>\n",
       "      <td>0.149421</td>\n",
       "      <td>4.105907</td>\n",
       "      <td>10.416291</td>\n",
       "      <td>6.816217</td>\n",
       "      <td>8.586960</td>\n",
       "      <td>4.512419</td>\n",
       "      <td>66.767304</td>\n",
       "    </tr>\n",
       "  </tbody>\n",
       "</table>\n",
       "<p>5 rows × 54 columns</p>\n",
       "</div>"
      ],
      "text/plain": [
       "     0    1    2    3    4    5         6         7  8    9  ...         44  \\\n",
       "0  236  488   16  221  382   97 -4.472136  0.107472  0  132  ...  13.340874   \n",
       "1  386  206  357  232    1  198  7.810250  0.763713  1  143  ...  12.484882   \n",
       "2  429   49  481  111  111  146  8.602325  0.651162  1  430  ...  14.030257   \n",
       "3  414  350  481  370  208  158  8.306624  0.424645  1  340  ...   2.789577   \n",
       "4  318  359   20  218  317  301  8.124038  0.767304  1  212  ...   1.886560   \n",
       "\n",
       "         45         46         47         48         49         50         51  \\\n",
       "0  0.870542   1.962937   7.466666  11.547794   8.822916   9.046424   7.895535   \n",
       "1  7.168680   2.885415  12.413973  10.260494  10.091351   9.270888   3.173994   \n",
       "2  0.394970   8.160625  12.592059   8.937577   2.265191  11.255721  12.794841   \n",
       "3  6.416708  10.549814  11.456437   6.468099   2.519049   0.258284   9.317696   \n",
       "4  1.919999   2.268203   0.149421   4.105907  10.416291   6.816217   8.586960   \n",
       "\n",
       "          52     target  \n",
       "0  11.010677  20.107472  \n",
       "1  13.921871  61.763713  \n",
       "2  12.080951  74.651162  \n",
       "3   5.383098  69.424645  \n",
       "4   4.512419  66.767304  \n",
       "\n",
       "[5 rows x 54 columns]"
      ]
     },
     "execution_count": 20,
     "metadata": {},
     "output_type": "execute_result"
    }
   ],
   "source": [
    "data.head()"
   ]
  },
  {
   "cell_type": "code",
   "execution_count": 21,
   "id": "e8d0bdfc",
   "metadata": {},
   "outputs": [
    {
     "data": {
      "text/plain": [
       "0           int64\n",
       "1           int64\n",
       "2           int64\n",
       "3           int64\n",
       "4           int64\n",
       "5           int64\n",
       "6         float64\n",
       "7         float64\n",
       "8           int64\n",
       "9           int64\n",
       "10          int64\n",
       "11          int64\n",
       "12          int64\n",
       "13        float64\n",
       "14        float64\n",
       "15        float64\n",
       "16        float64\n",
       "17        float64\n",
       "18        float64\n",
       "19        float64\n",
       "20        float64\n",
       "21        float64\n",
       "22        float64\n",
       "23        float64\n",
       "24        float64\n",
       "25        float64\n",
       "26        float64\n",
       "27        float64\n",
       "28        float64\n",
       "29        float64\n",
       "30        float64\n",
       "31        float64\n",
       "32        float64\n",
       "33        float64\n",
       "34        float64\n",
       "35        float64\n",
       "36        float64\n",
       "37        float64\n",
       "38        float64\n",
       "39        float64\n",
       "40        float64\n",
       "41        float64\n",
       "42        float64\n",
       "43        float64\n",
       "44        float64\n",
       "45        float64\n",
       "46        float64\n",
       "47        float64\n",
       "48        float64\n",
       "49        float64\n",
       "50        float64\n",
       "51        float64\n",
       "52        float64\n",
       "target    float64\n",
       "dtype: object"
      ]
     },
     "execution_count": 21,
     "metadata": {},
     "output_type": "execute_result"
    }
   ],
   "source": [
    "data.dtypes"
   ]
  },
  {
   "cell_type": "code",
   "execution_count": 22,
   "id": "408878bc",
   "metadata": {},
   "outputs": [
    {
     "data": {
      "text/plain": [
       "0         False\n",
       "1         False\n",
       "2         False\n",
       "3         False\n",
       "4         False\n",
       "5         False\n",
       "6         False\n",
       "7         False\n",
       "8         False\n",
       "9         False\n",
       "10        False\n",
       "11        False\n",
       "12        False\n",
       "13        False\n",
       "14        False\n",
       "15        False\n",
       "16        False\n",
       "17        False\n",
       "18        False\n",
       "19        False\n",
       "20        False\n",
       "21        False\n",
       "22        False\n",
       "23        False\n",
       "24        False\n",
       "25        False\n",
       "26        False\n",
       "27        False\n",
       "28        False\n",
       "29        False\n",
       "30        False\n",
       "31        False\n",
       "32        False\n",
       "33        False\n",
       "34        False\n",
       "35        False\n",
       "36        False\n",
       "37        False\n",
       "38        False\n",
       "39        False\n",
       "40        False\n",
       "41        False\n",
       "42        False\n",
       "43        False\n",
       "44        False\n",
       "45        False\n",
       "46        False\n",
       "47        False\n",
       "48        False\n",
       "49        False\n",
       "50        False\n",
       "51        False\n",
       "52        False\n",
       "target    False\n",
       "dtype: bool"
      ]
     },
     "execution_count": 22,
     "metadata": {},
     "output_type": "execute_result"
    }
   ],
   "source": [
    "data.isna().any()"
   ]
  },
  {
   "cell_type": "markdown",
   "id": "4fa8a220",
   "metadata": {},
   "source": [
    "### It looks like it is ready to be used for training"
   ]
  },
  {
   "cell_type": "code",
   "execution_count": 23,
   "id": "16f88728",
   "metadata": {},
   "outputs": [],
   "source": [
    "train_data = data.sample(frac=0.9, random_state=0)\n",
    "test_data = data.drop(train_data.index)\n",
    "\n",
    "train_X = train_data.copy()\n",
    "test_X = test_data.copy()\n",
    "\n",
    "train_Y = train_X.pop('target')\n",
    "test_Y = test_X.pop('target')"
   ]
  },
  {
   "cell_type": "markdown",
   "id": "de9a8221",
   "metadata": {},
   "source": [
    "### Fit the model"
   ]
  },
  {
   "cell_type": "code",
   "execution_count": 24,
   "id": "d558e625",
   "metadata": {},
   "outputs": [
    {
     "name": "stdout",
     "output_type": "stream",
     "text": [
      "Epoch 1/10\n"
     ]
    },
    {
     "name": "stderr",
     "output_type": "stream",
     "text": [
      "/opt/homebrew/lib/python3.10/site-packages/keras/engine/data_adapter.py:1696: FutureWarning: The behavior of `series[i:j]` with an integer-dtype index is deprecated. In a future version, this will be treated as *label-based* indexing, consistent with e.g. `series[i]` lookups. To retain the old behavior, use `series.iloc[i:j]`. To get the future behavior, use `series.loc[i:j]`.\n",
      "  return t[start:end]\n"
     ]
    },
    {
     "name": "stdout",
     "output_type": "stream",
     "text": [
      "2025/2025 [==============================] - 1s 460us/step - loss: 26281.3438 - root_mean_squared_error: 162.1152 - val_loss: 968.9983 - val_root_mean_squared_error: 31.1287\n",
      "Epoch 2/10\n",
      "2025/2025 [==============================] - 1s 419us/step - loss: 906.2121 - root_mean_squared_error: 30.1034 - val_loss: 860.9028 - val_root_mean_squared_error: 29.3411\n",
      "Epoch 3/10\n",
      "2025/2025 [==============================] - 1s 423us/step - loss: 843.3678 - root_mean_squared_error: 29.0408 - val_loss: 832.5716 - val_root_mean_squared_error: 28.8543\n",
      "Epoch 4/10\n",
      "2025/2025 [==============================] - 1s 427us/step - loss: 842.2624 - root_mean_squared_error: 29.0218 - val_loss: 840.0317 - val_root_mean_squared_error: 28.9833\n",
      "Epoch 5/10\n",
      "2025/2025 [==============================] - 1s 442us/step - loss: 842.9371 - root_mean_squared_error: 29.0334 - val_loss: 832.7672 - val_root_mean_squared_error: 28.8577\n",
      "Epoch 6/10\n",
      "2025/2025 [==============================] - 1s 421us/step - loss: 842.4478 - root_mean_squared_error: 29.0250 - val_loss: 832.8395 - val_root_mean_squared_error: 28.8590\n",
      "Epoch 7/10\n",
      "2025/2025 [==============================] - 1s 421us/step - loss: 840.6749 - root_mean_squared_error: 28.9944 - val_loss: 834.0517 - val_root_mean_squared_error: 28.8800\n",
      "Epoch 8/10\n",
      "2025/2025 [==============================] - 1s 421us/step - loss: 841.1749 - root_mean_squared_error: 29.0030 - val_loss: 832.6589 - val_root_mean_squared_error: 28.8558\n",
      "Epoch 9/10\n",
      "2025/2025 [==============================] - 1s 424us/step - loss: 840.6982 - root_mean_squared_error: 28.9948 - val_loss: 830.2094 - val_root_mean_squared_error: 28.8134\n",
      "Epoch 10/10\n",
      "2025/2025 [==============================] - 1s 430us/step - loss: 840.1159 - root_mean_squared_error: 28.9848 - val_loss: 830.1036 - val_root_mean_squared_error: 28.8115\n"
     ]
    },
    {
     "data": {
      "text/plain": [
       "<keras.callbacks.History at 0x2a4499ea0>"
      ]
     },
     "execution_count": 24,
     "metadata": {},
     "output_type": "execute_result"
    }
   ],
   "source": [
    "model = Model([64, 64], 0.1)\n",
    "model.fit(train_X, train_Y, epochs=10)"
   ]
  },
  {
   "cell_type": "markdown",
   "id": "d21ea048",
   "metadata": {},
   "source": [
    "### Looks like it doesn't train. Let's try decreasing learning rate"
   ]
  },
  {
   "cell_type": "code",
   "execution_count": 25,
   "id": "20584a1c",
   "metadata": {},
   "outputs": [
    {
     "name": "stdout",
     "output_type": "stream",
     "text": [
      "Epoch 1/10\n"
     ]
    },
    {
     "name": "stderr",
     "output_type": "stream",
     "text": [
      "/opt/homebrew/lib/python3.10/site-packages/keras/engine/data_adapter.py:1696: FutureWarning: The behavior of `series[i:j]` with an integer-dtype index is deprecated. In a future version, this will be treated as *label-based* indexing, consistent with e.g. `series[i]` lookups. To retain the old behavior, use `series.iloc[i:j]`. To get the future behavior, use `series.loc[i:j]`.\n",
      "  return t[start:end]\n"
     ]
    },
    {
     "name": "stdout",
     "output_type": "stream",
     "text": [
      "2025/2025 [==============================] - 1s 495us/step - loss: 899.8050 - root_mean_squared_error: 29.9967 - val_loss: 861.9070 - val_root_mean_squared_error: 29.3583\n",
      "Epoch 2/10\n",
      "2025/2025 [==============================] - 1s 421us/step - loss: 240.1942 - root_mean_squared_error: 15.4982 - val_loss: 18.9716 - val_root_mean_squared_error: 4.3556\n",
      "Epoch 3/10\n",
      "2025/2025 [==============================] - 1s 429us/step - loss: 27.2078 - root_mean_squared_error: 5.2161 - val_loss: 28.9052 - val_root_mean_squared_error: 5.3764\n",
      "Epoch 4/10\n",
      "2025/2025 [==============================] - 1s 425us/step - loss: 22.4477 - root_mean_squared_error: 4.7379 - val_loss: 12.1318 - val_root_mean_squared_error: 3.4831\n",
      "Epoch 5/10\n",
      "2025/2025 [==============================] - 1s 421us/step - loss: 17.4614 - root_mean_squared_error: 4.1787 - val_loss: 18.6483 - val_root_mean_squared_error: 4.3184\n",
      "Epoch 6/10\n",
      "2025/2025 [==============================] - 1s 420us/step - loss: 15.2801 - root_mean_squared_error: 3.9090 - val_loss: 16.6135 - val_root_mean_squared_error: 4.0760\n",
      "Epoch 7/10\n",
      "2025/2025 [==============================] - 1s 425us/step - loss: 11.0648 - root_mean_squared_error: 3.3264 - val_loss: 10.7301 - val_root_mean_squared_error: 3.2757\n",
      "Epoch 8/10\n",
      "2025/2025 [==============================] - 1s 433us/step - loss: 9.7213 - root_mean_squared_error: 3.1179 - val_loss: 2.5002 - val_root_mean_squared_error: 1.5812\n",
      "Epoch 9/10\n",
      "2025/2025 [==============================] - 1s 427us/step - loss: 6.5552 - root_mean_squared_error: 2.5603 - val_loss: 4.3169 - val_root_mean_squared_error: 2.0777\n",
      "Epoch 10/10\n",
      "2025/2025 [==============================] - 1s 421us/step - loss: 5.4606 - root_mean_squared_error: 2.3368 - val_loss: 6.3327 - val_root_mean_squared_error: 2.5165\n"
     ]
    },
    {
     "data": {
      "text/plain": [
       "<keras.callbacks.History at 0x16aef7f10>"
      ]
     },
     "execution_count": 25,
     "metadata": {},
     "output_type": "execute_result"
    }
   ],
   "source": [
    "model = Model([64, 64], 0.01)\n",
    "model.fit(train_X, train_Y, epochs=10)"
   ]
  },
  {
   "cell_type": "markdown",
   "id": "2c17a7ab",
   "metadata": {},
   "source": [
    "### The model started overfitting after the 8th epoch. Probably, we should stop there"
   ]
  },
  {
   "cell_type": "code",
   "execution_count": 26,
   "id": "fa602b71",
   "metadata": {},
   "outputs": [
    {
     "name": "stdout",
     "output_type": "stream",
     "text": [
      "Epoch 1/8\n"
     ]
    },
    {
     "name": "stderr",
     "output_type": "stream",
     "text": [
      "/opt/homebrew/lib/python3.10/site-packages/keras/engine/data_adapter.py:1696: FutureWarning: The behavior of `series[i:j]` with an integer-dtype index is deprecated. In a future version, this will be treated as *label-based* indexing, consistent with e.g. `series[i]` lookups. To retain the old behavior, use `series.iloc[i:j]`. To get the future behavior, use `series.loc[i:j]`.\n",
      "  return t[start:end]\n"
     ]
    },
    {
     "name": "stdout",
     "output_type": "stream",
     "text": [
      "2025/2025 [==============================] - 1s 467us/step - loss: 951.8229 - root_mean_squared_error: 30.8516 - val_loss: 848.9866 - val_root_mean_squared_error: 29.1374\n",
      "Epoch 2/8\n",
      "2025/2025 [==============================] - 1s 419us/step - loss: 142.6158 - root_mean_squared_error: 11.9422 - val_loss: 18.4127 - val_root_mean_squared_error: 4.2910\n",
      "Epoch 3/8\n",
      "2025/2025 [==============================] - 1s 418us/step - loss: 25.3727 - root_mean_squared_error: 5.0371 - val_loss: 13.5309 - val_root_mean_squared_error: 3.6784\n",
      "Epoch 4/8\n",
      "2025/2025 [==============================] - 1s 417us/step - loss: 21.0210 - root_mean_squared_error: 4.5849 - val_loss: 18.3857 - val_root_mean_squared_error: 4.2879\n",
      "Epoch 5/8\n",
      "2025/2025 [==============================] - 1s 420us/step - loss: 16.4168 - root_mean_squared_error: 4.0518 - val_loss: 10.3575 - val_root_mean_squared_error: 3.2183\n",
      "Epoch 6/8\n",
      "2025/2025 [==============================] - 1s 423us/step - loss: 13.5277 - root_mean_squared_error: 3.6780 - val_loss: 4.7925 - val_root_mean_squared_error: 2.1892\n",
      "Epoch 7/8\n",
      "2025/2025 [==============================] - 1s 425us/step - loss: 10.4937 - root_mean_squared_error: 3.2394 - val_loss: 9.6306 - val_root_mean_squared_error: 3.1033\n",
      "Epoch 8/8\n",
      "2025/2025 [==============================] - 1s 429us/step - loss: 9.4449 - root_mean_squared_error: 3.0733 - val_loss: 5.0885 - val_root_mean_squared_error: 2.2558\n"
     ]
    },
    {
     "data": {
      "text/plain": [
       "<keras.callbacks.History at 0x16b6cf400>"
      ]
     },
     "execution_count": 26,
     "metadata": {},
     "output_type": "execute_result"
    }
   ],
   "source": [
    "model = Model([64, 64], 0.01)\n",
    "model.fit(train_X, train_Y, epochs=8)"
   ]
  },
  {
   "cell_type": "markdown",
   "id": "9980a36b",
   "metadata": {},
   "source": [
    "### Okay, now let's evaluate the model"
   ]
  },
  {
   "cell_type": "code",
   "execution_count": 27,
   "id": "0aa2dad4",
   "metadata": {},
   "outputs": [
    {
     "name": "stdout",
     "output_type": "stream",
     "text": [
      "282/282 [==============================] - 0s 310us/step - loss: 4.7435 - root_mean_squared_error: 2.1780\n"
     ]
    },
    {
     "data": {
      "text/plain": [
       "[4.743494987487793, 2.1779565811157227]"
      ]
     },
     "execution_count": 27,
     "metadata": {},
     "output_type": "execute_result"
    }
   ],
   "source": [
    "model.evaluate(test_X, test_Y)"
   ]
  },
  {
   "cell_type": "markdown",
   "id": "74ec4d33",
   "metadata": {},
   "source": [
    "### Good, the error is approximately the same as on validation dataset. Well let's look closer at out target to understand how big is this error comparing to the value span"
   ]
  },
  {
   "cell_type": "code",
   "execution_count": 10,
   "id": "a4d9b68b",
   "metadata": {},
   "outputs": [
    {
     "data": {
      "text/plain": [
       "count    90000.000000\n",
       "mean        50.033981\n",
       "std         28.897243\n",
       "min          0.002634\n",
       "25%         25.091903\n",
       "50%         50.030705\n",
       "75%         75.059454\n",
       "max         99.999482\n",
       "Name: target, dtype: float64"
      ]
     },
     "execution_count": 10,
     "metadata": {},
     "output_type": "execute_result"
    }
   ],
   "source": [
    "data['target'].describe()"
   ]
  },
  {
   "cell_type": "markdown",
   "id": "09462242",
   "metadata": {},
   "source": [
    "### The value spans from 0 to 100 and we have RMSE of around 2. So, it is probably quite a good result. Finally, let's make predictions on hidden dataset and save them"
   ]
  },
  {
   "cell_type": "code",
   "execution_count": 28,
   "id": "c43bca2c",
   "metadata": {},
   "outputs": [],
   "source": [
    "hidden_data = pd.read_csv('internship_hidden_test.csv')"
   ]
  },
  {
   "cell_type": "code",
   "execution_count": 29,
   "id": "4b13c422",
   "metadata": {},
   "outputs": [
    {
     "name": "stdout",
     "output_type": "stream",
     "text": [
      "313/313 [==============================] - 0s 275us/step\n"
     ]
    }
   ],
   "source": [
    "hidden_predictions = model.predict(hidden_data)"
   ]
  },
  {
   "cell_type": "code",
   "execution_count": 30,
   "id": "e05d6cf8",
   "metadata": {},
   "outputs": [
    {
     "data": {
      "text/plain": [
       "(10000, 1)"
      ]
     },
     "execution_count": 30,
     "metadata": {},
     "output_type": "execute_result"
    }
   ],
   "source": [
    "hidden_predictions.shape"
   ]
  },
  {
   "cell_type": "code",
   "execution_count": 31,
   "id": "ddced571",
   "metadata": {},
   "outputs": [],
   "source": [
    "hidden_predictions = hidden_predictions.reshape(hidden_predictions.shape[0])"
   ]
  },
  {
   "cell_type": "code",
   "execution_count": 32,
   "id": "cd3cc63d",
   "metadata": {},
   "outputs": [
    {
     "data": {
      "text/plain": [
       "(10000,)"
      ]
     },
     "execution_count": 32,
     "metadata": {},
     "output_type": "execute_result"
    }
   ],
   "source": [
    "hidden_predictions.shape"
   ]
  },
  {
   "cell_type": "code",
   "execution_count": 33,
   "id": "e7089e5f",
   "metadata": {},
   "outputs": [],
   "source": [
    "hidden_predictions_df = pd.DataFrame({'target': hidden_predictions})"
   ]
  },
  {
   "cell_type": "code",
   "execution_count": 34,
   "id": "b1bca7ef",
   "metadata": {},
   "outputs": [],
   "source": [
    "hidden_predictions_df.to_csv('hidden_predictions.csv')"
   ]
  },
  {
   "cell_type": "code",
   "execution_count": null,
   "id": "24a7dc0f",
   "metadata": {},
   "outputs": [],
   "source": []
  }
 ],
 "metadata": {
  "kernelspec": {
   "display_name": "Python 3 (ipykernel)",
   "language": "python",
   "name": "python3"
  },
  "language_info": {
   "codemirror_mode": {
    "name": "ipython",
    "version": 3
   },
   "file_extension": ".py",
   "mimetype": "text/x-python",
   "name": "python",
   "nbconvert_exporter": "python",
   "pygments_lexer": "ipython3",
   "version": "3.10.9"
  }
 },
 "nbformat": 4,
 "nbformat_minor": 5
}
